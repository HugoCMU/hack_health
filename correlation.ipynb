{
 "cells": [
  {
   "cell_type": "markdown",
   "metadata": {},
   "source": [
    "## OpenAI Hackathon: Health Data"
   ]
  },
  {
   "cell_type": "code",
   "execution_count": 20,
   "metadata": {
    "ExecuteTime": {
     "end_time": "2018-03-03T20:38:33.634562Z",
     "start_time": "2018-03-03T20:38:33.617330Z"
    }
   },
   "outputs": [],
   "source": [
    "import matplotlib.pyplot as plt\n",
    "import pandas as pd\n",
    "import seaborn as sns\n",
    "from pathlib import Path\n",
    "import re\n",
    "\n",
    "ROOT_DIR = Path.cwd()\n",
    "STEPS_JSON = ROOT_DIR / 'steps.json'\n",
    "WEIGHT_JSON = ROOT_DIR / 'weight.json'"
   ]
  },
  {
   "cell_type": "markdown",
   "metadata": {},
   "source": [
    "## Correlation"
   ]
  },
  {
   "cell_type": "code",
   "execution_count": 43,
   "metadata": {
    "ExecuteTime": {
     "end_time": "2018-03-03T20:47:57.970275Z",
     "start_time": "2018-03-03T20:47:57.927259Z"
    }
   },
   "outputs": [],
   "source": [
    "steps_data = pd.read_json(str(STEPS_JSON))\n",
    "weight_data = pd.read_json(str(WEIGHT_JSON))\n",
    "\n",
    "# Change weight data to have a consistent date category\n",
    "def change_date(create_time_string):\n",
    "    m = re.search('(\\d\\d\\d\\d-\\d\\d-\\d\\d)', str(create_time_string))\n",
    "    return m.group(1)\n",
    "\n",
    "weight_data['adate'] = weight_data['time'].apply(change_date)\n",
    "steps_data['adate'] = steps_data['date'].apply(change_date)\n",
    "\n",
    "# Join weight and steps data\n",
    "weight_data = weight_data.merge(steps_data, on='adate')"
   ]
  },
  {
   "cell_type": "code",
   "execution_count": 47,
   "metadata": {
    "ExecuteTime": {
     "end_time": "2018-03-03T20:48:26.553951Z",
     "start_time": "2018-03-03T20:48:26.540853Z"
    }
   },
   "outputs": [
    {
     "name": "stdout",
     "output_type": "stream",
     "text": [
      "0      2018-01-01\n",
      "1      2017-12-31\n",
      "2      2017-12-30\n",
      "3      2017-12-29\n",
      "4      2017-12-28\n",
      "5      2017-12-27\n",
      "6      2017-12-26\n",
      "7      2017-12-25\n",
      "8      2017-12-24\n",
      "9      2017-12-23\n",
      "10     2017-12-22\n",
      "11     2017-12-21\n",
      "12     2017-12-20\n",
      "13     2017-12-19\n",
      "14     2017-12-18\n",
      "15     2017-12-17\n",
      "16     2017-12-16\n",
      "17     2017-12-15\n",
      "18     2017-12-14\n",
      "19     2017-12-13\n",
      "20     2017-12-12\n",
      "21     2017-12-11\n",
      "22     2017-12-10\n",
      "23     2017-12-09\n",
      "24     2017-12-08\n",
      "25     2017-12-07\n",
      "26     2017-12-06\n",
      "27     2017-12-05\n",
      "28     2017-12-04\n",
      "29     2017-12-03\n",
      "          ...    \n",
      "946    2015-05-29\n",
      "947    2015-05-28\n",
      "948    2015-05-27\n",
      "949    2015-05-26\n",
      "950    2015-05-25\n",
      "951    2015-05-24\n",
      "952    2015-05-23\n",
      "953    2015-05-22\n",
      "954    2015-05-21\n",
      "955    2015-05-20\n",
      "956    2015-05-19\n",
      "957    2015-05-18\n",
      "958    2015-05-17\n",
      "959    2015-05-16\n",
      "960    2015-05-15\n",
      "961    2015-05-14\n",
      "962    2015-05-13\n",
      "963    2015-05-12\n",
      "964    2015-05-11\n",
      "965    2015-05-10\n",
      "966    2015-05-09\n",
      "967    2015-05-08\n",
      "968    2015-05-07\n",
      "969    2015-05-06\n",
      "970    2015-05-05\n",
      "971    2015-05-04\n",
      "972    2015-05-03\n",
      "973    2015-05-02\n",
      "974    2015-05-01\n",
      "975    2015-04-30\n",
      "Name: adate, Length: 976, dtype: object\n"
     ]
    }
   ],
   "source": [
    "# print(weight_data['adate'])\n",
    "print(steps_data['adate'])"
   ]
  },
  {
   "cell_type": "code",
   "execution_count": 55,
   "metadata": {
    "ExecuteTime": {
     "end_time": "2018-03-03T21:01:45.469631Z",
     "start_time": "2018-03-03T21:01:45.320406Z"
    },
    "scrolled": true
   },
   "outputs": [
    {
     "data": {
      "image/png": "[encoded data removed]",
      "text/plain": [
       "<matplotlib.figure.Figure at 0x7f4debe37358>"
      ]
     },
     "metadata": {},
     "output_type": "display_data"
    }
   ],
   "source": [
    "#correlation matrix\n",
    "corrmat = weight_data.corr()\n",
    "f, ax = plt.subplots(figsize=(12, 9))\n",
    "sns.heatmap(corrmat, vmax=.8, square=True);"
   ]
  },
  {
   "cell_type": "code",
   "execution_count": null,
   "metadata": {},
   "outputs": [],
   "source": [
    "import torch\n"
   ]
  }
 ],
 "metadata": {
  "kernelspec": {
   "display_name": "Python [conda env:pytorch]",
   "language": "python",
   "name": "conda-env-pytorch-py"
  },
  "language_info": {
   "codemirror_mode": {
    "name": "ipython",
    "version": 3
   },
   "file_extension": ".py",
   "mimetype": "text/x-python",
   "name": "python",
   "nbconvert_exporter": "python",
   "pygments_lexer": "ipython3",
   "version": "3.6.4"
  }
 },
 "nbformat": 4,
 "nbformat_minor": 2
}
